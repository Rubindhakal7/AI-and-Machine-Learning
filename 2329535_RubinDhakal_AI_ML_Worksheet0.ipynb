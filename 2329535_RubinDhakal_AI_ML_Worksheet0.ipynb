{
  "nbformat": 4,
  "nbformat_minor": 0,
  "metadata": {
    "colab": {
      "provenance": []
    },
    "kernelspec": {
      "name": "python3",
      "display_name": "Python 3"
    },
    "language_info": {
      "name": "python"
    }
  },
  "cells": [
    {
      "cell_type": "code",
      "source": [
        "import numpy as np"
      ],
      "metadata": {
        "id": "ZuWDgghUYBrn"
      },
      "execution_count": 2,
      "outputs": []
    },
    {
      "cell_type": "markdown",
      "source": [
        "##Problem 1: Array Creation\n"
      ],
      "metadata": {
        "id": "rM6Bx4dJX3EZ"
      }
    },
    {
      "cell_type": "markdown",
      "source": [
        "1. Initialize an empty array with size 2X2"
      ],
      "metadata": {
        "id": "lPtyGo0SGHKR"
      }
    },
    {
      "cell_type": "code",
      "execution_count": 15,
      "metadata": {
        "colab": {
          "base_uri": "https://localhost:8080/"
        },
        "id": "0as8-GCzXnMe",
        "outputId": "75b39543-59e1-42f2-d0fa-7393f6284492"
      },
      "outputs": [
        {
          "output_type": "stream",
          "name": "stdout",
          "text": [
            "[[3.09287140e-316 0.00000000e+000]\n",
            " [6.68546084e-310 5.33196831e-317]]\n"
          ]
        }
      ],
      "source": [
        "\n",
        "empty_array = np.empty((2, 2))\n",
        "print(empty_array)"
      ]
    },
    {
      "cell_type": "markdown",
      "source": [
        " 2. Initialize an all one array with size 4X2"
      ],
      "metadata": {
        "id": "YHzozg17GPGJ"
      }
    },
    {
      "cell_type": "code",
      "source": [
        "\n",
        "ones_array = np.ones((4, 2))\n",
        "print (ones_array)"
      ],
      "metadata": {
        "colab": {
          "base_uri": "https://localhost:8080/"
        },
        "id": "SqHmDTRoYFUr",
        "outputId": "c0190c86-fb9b-49b4-f107-a06cbd974af7"
      },
      "execution_count": 17,
      "outputs": [
        {
          "output_type": "stream",
          "name": "stdout",
          "text": [
            "[[1. 1.]\n",
            " [1. 1.]\n",
            " [1. 1.]\n",
            " [1. 1.]]\n"
          ]
        }
      ]
    },
    {
      "cell_type": "markdown",
      "source": [
        "3. Return a new array of given shape and type, filled with fill value"
      ],
      "metadata": {
        "id": "RMUajzwlGWdu"
      }
    },
    {
      "cell_type": "code",
      "source": [
        "\n",
        "filled_array = np.full((3, 3), 7, dtype=int)\n",
        "print (filled_array)"
      ],
      "metadata": {
        "colab": {
          "base_uri": "https://localhost:8080/"
        },
        "id": "Suo0A2myYLUZ",
        "outputId": "d9ae2b99-92da-447e-f7f2-696522c19d67"
      },
      "execution_count": 16,
      "outputs": [
        {
          "output_type": "stream",
          "name": "stdout",
          "text": [
            "[[7 7 7]\n",
            " [7 7 7]\n",
            " [7 7 7]]\n"
          ]
        }
      ]
    },
    {
      "cell_type": "markdown",
      "source": [
        "4. Return a new array of zeros with same shape and type as a given array"
      ],
      "metadata": {
        "id": "RBEDLZIQGhpr"
      }
    },
    {
      "cell_type": "code",
      "source": [
        "\n",
        "a = np.array([1, 2, 3])\n",
        "zeros_like_array = np.zeros_like(a)\n",
        "print (zeros_like_array)"
      ],
      "metadata": {
        "colab": {
          "base_uri": "https://localhost:8080/"
        },
        "id": "9-St-Fl-YPrH",
        "outputId": "0eac8ba6-4407-4819-ac63-e89d1881e812"
      },
      "execution_count": 18,
      "outputs": [
        {
          "output_type": "stream",
          "name": "stdout",
          "text": [
            "[0 0 0]\n"
          ]
        }
      ]
    },
    {
      "cell_type": "markdown",
      "source": [
        "5. Return a new array of ones with same shape and type as a given array"
      ],
      "metadata": {
        "id": "-kx9q5XwGlYc"
      }
    },
    {
      "cell_type": "code",
      "source": [
        "\n",
        "ones_like_array = np.ones_like(a)\n",
        "print (ones_like_array)"
      ],
      "metadata": {
        "colab": {
          "base_uri": "https://localhost:8080/"
        },
        "id": "Sp-7dGXdYTNH",
        "outputId": "b678f6d4-8718-4160-80be-b2ee522b1fa5"
      },
      "execution_count": 19,
      "outputs": [
        {
          "output_type": "stream",
          "name": "stdout",
          "text": [
            "[1 1 1]\n"
          ]
        }
      ]
    },
    {
      "cell_type": "markdown",
      "source": [
        "6. For an existing list new_list = [1,2,3,4] convert to a numpy array"
      ],
      "metadata": {
        "id": "PwFvGUErGpDG"
      }
    },
    {
      "cell_type": "code",
      "source": [
        "\n",
        "new_list = [1, 2, 3, 4]\n",
        "numpy_array = np.array(new_list)\n",
        "print (numpy_array)"
      ],
      "metadata": {
        "colab": {
          "base_uri": "https://localhost:8080/"
        },
        "id": "uM6YCiNOYZZC",
        "outputId": "ea1048b9-ff99-4fe1-ec77-05225d42059b"
      },
      "execution_count": 20,
      "outputs": [
        {
          "output_type": "stream",
          "name": "stdout",
          "text": [
            "[1 2 3 4]\n"
          ]
        }
      ]
    },
    {
      "cell_type": "markdown",
      "source": [
        "\n",
        "# Problem - 2: Array Manipulation"
      ],
      "metadata": {
        "id": "2DPMog5CD6km"
      }
    },
    {
      "cell_type": "markdown",
      "source": [
        " 1. Create an array with values ranging from 10 to 49"
      ],
      "metadata": {
        "id": "xMBRI9oCGsfP"
      }
    },
    {
      "cell_type": "code",
      "source": [
        "\n",
        "range_array = np.arange(10, 50)\n",
        "print (range_array)"
      ],
      "metadata": {
        "colab": {
          "base_uri": "https://localhost:8080/"
        },
        "id": "l2f8YjRPD_AX",
        "outputId": "e9178470-2bed-4e2d-a980-4f377152ec5b"
      },
      "execution_count": 21,
      "outputs": [
        {
          "output_type": "stream",
          "name": "stdout",
          "text": [
            "[10 11 12 13 14 15 16 17 18 19 20 21 22 23 24 25 26 27 28 29 30 31 32 33\n",
            " 34 35 36 37 38 39 40 41 42 43 44 45 46 47 48 49]\n"
          ]
        }
      ]
    },
    {
      "cell_type": "markdown",
      "source": [],
      "metadata": {
        "id": "gefLVazpGw1G"
      }
    },
    {
      "cell_type": "markdown",
      "source": [
        "2. Create a 3X3 matrix with values ranging from 0 to 8"
      ],
      "metadata": {
        "id": "TCVBsudgG096"
      }
    },
    {
      "cell_type": "code",
      "source": [
        "\n",
        "matrix_3x3 = np.arange(9).reshape(3, 3)\n",
        "print (matrix_3x3)"
      ],
      "metadata": {
        "colab": {
          "base_uri": "https://localhost:8080/"
        },
        "id": "HSuE5b9oD1rP",
        "outputId": "b1d081dc-d377-470c-f8ec-c9c49da6649c"
      },
      "execution_count": 22,
      "outputs": [
        {
          "output_type": "stream",
          "name": "stdout",
          "text": [
            "[[0 1 2]\n",
            " [3 4 5]\n",
            " [6 7 8]]\n"
          ]
        }
      ]
    },
    {
      "cell_type": "markdown",
      "source": [
        "3. Create a 3X3 identity matrix"
      ],
      "metadata": {
        "id": "UIrmibm5G6QB"
      }
    },
    {
      "cell_type": "code",
      "source": [
        "\n",
        "identity_matrix = np.eye(3)\n",
        "print (identity_matrix)"
      ],
      "metadata": {
        "colab": {
          "base_uri": "https://localhost:8080/"
        },
        "id": "7QA-ezHGEMqJ",
        "outputId": "509e8c6f-b906-4942-f8d5-efa4a2fc1790"
      },
      "execution_count": 24,
      "outputs": [
        {
          "output_type": "stream",
          "name": "stdout",
          "text": [
            "[[1. 0. 0.]\n",
            " [0. 1. 0.]\n",
            " [0. 0. 1.]]\n"
          ]
        }
      ]
    },
    {
      "cell_type": "markdown",
      "source": [],
      "metadata": {
        "id": "yqvrfxJrG8ol"
      }
    },
    {
      "cell_type": "markdown",
      "source": [
        "4. Create a random array of size 30 and find the mean of the array"
      ],
      "metadata": {
        "id": "xfhaDdWJG-9G"
      }
    },
    {
      "cell_type": "code",
      "source": [
        "\n",
        "random_array = np.random.random(30)\n",
        "print(random_array)\n",
        "mean_value = random_array.mean()\n",
        "print(mean_value)\n"
      ],
      "metadata": {
        "colab": {
          "base_uri": "https://localhost:8080/"
        },
        "id": "5B3GSLVGERN6",
        "outputId": "4c511445-970d-4c16-91ae-f9ae36db4a60"
      },
      "execution_count": 14,
      "outputs": [
        {
          "output_type": "stream",
          "name": "stdout",
          "text": [
            "[0.15350754 0.18220761 0.00590308 0.00790909 0.47254011 0.92915856\n",
            " 0.21044887 0.02045696 0.64681278 0.02207773 0.42620474 0.74558297\n",
            " 0.38887518 0.5420514  0.95812395 0.86185236 0.78747771 0.49816902\n",
            " 0.48693753 0.12129499 0.6382022  0.29165984 0.36506982 0.38376439\n",
            " 0.96696873 0.72593736 0.20802928 0.00583701 0.8306067  0.96774449]\n",
            "0.46171373299180735\n"
          ]
        }
      ]
    },
    {
      "cell_type": "markdown",
      "source": [
        "5. Create a 10X10 array with random values and find the minimum and maximum values"
      ],
      "metadata": {
        "id": "gNbeh2dEHD3t"
      }
    },
    {
      "cell_type": "code",
      "source": [
        "\n",
        "random_array_10x10 = np.random.random((10, 10))\n",
        "min_value = random_array_10x10.min()\n",
        "max_value = random_array_10x10.max()\n",
        "print(min_value)\n",
        "print(max_value)"
      ],
      "metadata": {
        "colab": {
          "base_uri": "https://localhost:8080/"
        },
        "id": "3rmgfbsgFZTb",
        "outputId": "c33bf8be-f1fb-4a31-f73f-27fd9dd981b6"
      },
      "execution_count": 26,
      "outputs": [
        {
          "output_type": "stream",
          "name": "stdout",
          "text": [
            "0.0012271407665656042\n",
            "0.9968107343442866\n"
          ]
        }
      ]
    },
    {
      "cell_type": "markdown",
      "source": [
        " 6. Create a zero array of size 10 and replace 5th element with 1"
      ],
      "metadata": {
        "id": "Z2NFLhPIHKIe"
      }
    },
    {
      "cell_type": "code",
      "source": [
        "\n",
        "zero_array = np.zeros(10)\n",
        "zero_array[4] = 1\n",
        "print(zero_array)"
      ],
      "metadata": {
        "colab": {
          "base_uri": "https://localhost:8080/"
        },
        "id": "_eNRYoiaFiQL",
        "outputId": "5a3a0087-749e-491e-9df3-8df025d2801e"
      },
      "execution_count": 27,
      "outputs": [
        {
          "output_type": "stream",
          "name": "stdout",
          "text": [
            "[0. 0. 0. 0. 1. 0. 0. 0. 0. 0.]\n"
          ]
        }
      ]
    },
    {
      "cell_type": "markdown",
      "source": [
        "7. Reverse an array arr = [1,2,0,0,4,0]"
      ],
      "metadata": {
        "id": "7-MoEheDHMw2"
      }
    },
    {
      "cell_type": "code",
      "source": [
        "\n",
        "arr = np.array([1, 2, 0, 0, 4, 0])\n",
        "reversed_arr = arr[::-1]\n",
        "print (reversed_arr)"
      ],
      "metadata": {
        "colab": {
          "base_uri": "https://localhost:8080/"
        },
        "id": "LNtUphQWFfJq",
        "outputId": "b27890c5-7137-4938-faae-3cb5ecb4fea9"
      },
      "execution_count": 28,
      "outputs": [
        {
          "output_type": "stream",
          "name": "stdout",
          "text": [
            "[0 4 0 0 2 1]\n"
          ]
        }
      ]
    },
    {
      "cell_type": "markdown",
      "source": [
        "8. Create a 2d array with 1 on border and 0 inside"
      ],
      "metadata": {
        "id": "pDBQfsotHTlr"
      }
    },
    {
      "cell_type": "code",
      "source": [
        "\n",
        "array_2d = np.ones((5, 5))\n",
        "array_2d[1:-1, 1:-1] = 0\n",
        "print (array_2d)"
      ],
      "metadata": {
        "colab": {
          "base_uri": "https://localhost:8080/"
        },
        "id": "gWCzlaXIF1Bp",
        "outputId": "78a3ffef-5d0d-41e2-93bb-9bd819d0cb67"
      },
      "execution_count": 30,
      "outputs": [
        {
          "output_type": "stream",
          "name": "stdout",
          "text": [
            "[[1. 1. 1. 1. 1.]\n",
            " [1. 0. 0. 0. 1.]\n",
            " [1. 0. 0. 0. 1.]\n",
            " [1. 0. 0. 0. 1.]\n",
            " [1. 1. 1. 1. 1.]]\n"
          ]
        }
      ]
    },
    {
      "cell_type": "markdown",
      "source": [
        " 9. Create an 8X8 matrix and fill it with a checkerboard pattern"
      ],
      "metadata": {
        "id": "PysDXGtNHcWC"
      }
    },
    {
      "cell_type": "code",
      "source": [
        "\n",
        "checkerboard = np.zeros((8, 8), dtype=int)\n",
        "checkerboard[1::2, ::2] = 1\n",
        "checkerboard[::2, 1::2] = 1\n",
        "print (checkerboard)\n"
      ],
      "metadata": {
        "colab": {
          "base_uri": "https://localhost:8080/"
        },
        "id": "pr1VGmPlFwUP",
        "outputId": "d1fa1134-241d-44b7-f613-21eb6ab21b6a"
      },
      "execution_count": 29,
      "outputs": [
        {
          "output_type": "stream",
          "name": "stdout",
          "text": [
            "[[0 1 0 1 0 1 0 1]\n",
            " [1 0 1 0 1 0 1 0]\n",
            " [0 1 0 1 0 1 0 1]\n",
            " [1 0 1 0 1 0 1 0]\n",
            " [0 1 0 1 0 1 0 1]\n",
            " [1 0 1 0 1 0 1 0]\n",
            " [0 1 0 1 0 1 0 1]\n",
            " [1 0 1 0 1 0 1 0]]\n"
          ]
        }
      ]
    },
    {
      "cell_type": "markdown",
      "source": [
        "\n",
        "# Problem - 3: Array Operations"
      ],
      "metadata": {
        "id": "M2wzzGNoHyfG"
      }
    },
    {
      "cell_type": "code",
      "source": [
        "x = np.array([[1, 2], [3, 5]])\n",
        "y = np.array([[5, 6], [7, 8]])\n",
        "v = np.array([9, 10])\n",
        "w = np.array([11, 12])"
      ],
      "metadata": {
        "id": "qUi_aJj0H4uH"
      },
      "execution_count": 31,
      "outputs": []
    },
    {
      "cell_type": "code",
      "source": [
        "sum_array = x + y\n",
        "print (sum_array)"
      ],
      "metadata": {
        "colab": {
          "base_uri": "https://localhost:8080/"
        },
        "id": "81AT5Q2oH-kD",
        "outputId": "e16bb786-93a4-44d9-a273-34395079ffa8"
      },
      "execution_count": 33,
      "outputs": [
        {
          "output_type": "stream",
          "name": "stdout",
          "text": [
            "[[ 6  8]\n",
            " [10 13]]\n"
          ]
        }
      ]
    },
    {
      "cell_type": "code",
      "source": [
        "diff_array = x - y\n",
        "print(diff_array)"
      ],
      "metadata": {
        "colab": {
          "base_uri": "https://localhost:8080/"
        },
        "id": "bqzHlJldIAu-",
        "outputId": "6047a131-0d9a-4c99-da45-76479dc75ccc"
      },
      "execution_count": 34,
      "outputs": [
        {
          "output_type": "stream",
          "name": "stdout",
          "text": [
            "[[-4 -4]\n",
            " [-4 -3]]\n"
          ]
        }
      ]
    },
    {
      "cell_type": "code",
      "source": [
        "multiplied_array = x * 3\n",
        "print(multiplied_array)"
      ],
      "metadata": {
        "colab": {
          "base_uri": "https://localhost:8080/"
        },
        "id": "UPxOBzHZIUv2",
        "outputId": "93298ec6-8dfe-4968-85b7-59677e0d0819"
      },
      "execution_count": 36,
      "outputs": [
        {
          "output_type": "stream",
          "name": "stdout",
          "text": [
            "[[ 3  6]\n",
            " [ 9 15]]\n"
          ]
        }
      ]
    },
    {
      "cell_type": "code",
      "source": [
        "squared_array = x**2\n",
        "print(squared_array)"
      ],
      "metadata": {
        "colab": {
          "base_uri": "https://localhost:8080/"
        },
        "id": "5pQADmBfIXjR",
        "outputId": "e1ab9414-84e1-4e39-fb51-10a526a6f681"
      },
      "execution_count": 37,
      "outputs": [
        {
          "output_type": "stream",
          "name": "stdout",
          "text": [
            "[[ 1  4]\n",
            " [ 9 25]]\n"
          ]
        }
      ]
    },
    {
      "cell_type": "code",
      "source": [
        "dot_vw = np.dot(v, w)\n",
        "dot_xv = np.dot(x, v)\n",
        "dot_xy = np.dot(x, y)\n",
        "print(dot_vw)\n",
        "print(dot_xv)\n",
        "print(dot_xy)"
      ],
      "metadata": {
        "colab": {
          "base_uri": "https://localhost:8080/"
        },
        "id": "zM68igSMIhuz",
        "outputId": "b5a0f25b-31c5-4ef0-99ce-9f1934e35508"
      },
      "execution_count": 38,
      "outputs": [
        {
          "output_type": "stream",
          "name": "stdout",
          "text": [
            "219\n",
            "[29 77]\n",
            "[[19 22]\n",
            " [50 58]]\n"
          ]
        }
      ]
    },
    {
      "cell_type": "code",
      "source": [
        "concat_xy_row = np.concatenate((x, y), axis=0)\n",
        "concat_vw_col = np.concatenate((v[:, np.newaxis], w[:, np.newaxis]), axis=1)\n",
        "print(concat_xy_row)\n",
        "print(concat_vw_col)"
      ],
      "metadata": {
        "colab": {
          "base_uri": "https://localhost:8080/"
        },
        "id": "Kl4GWxGpIwDK",
        "outputId": "684fb34e-4108-44a2-ce8a-481473e79a8c"
      },
      "execution_count": 39,
      "outputs": [
        {
          "output_type": "stream",
          "name": "stdout",
          "text": [
            "[[1 2]\n",
            " [3 5]\n",
            " [5 6]\n",
            " [7 8]]\n",
            "[[ 9 11]\n",
            " [10 12]]\n"
          ]
        }
      ]
    },
    {
      "cell_type": "code",
      "source": [
        "try:\n",
        "    concat_xv = np.concatenate((x, v), axis=0)\n",
        "except ValueError:\n",
        "    # If shapes are incompatible, reshape v\n",
        "    concat_xv = np.concatenate((x, v.reshape(1, -1)), axis=0)\n",
        "print(concat_xv)\n"
      ],
      "metadata": {
        "colab": {
          "base_uri": "https://localhost:8080/"
        },
        "id": "eKwZW6NLI6ia",
        "outputId": "609b9486-4e04-4798-caee-172eaa796e61"
      },
      "execution_count": 40,
      "outputs": [
        {
          "output_type": "stream",
          "name": "stdout",
          "text": [
            "[[ 1  2]\n",
            " [ 3  5]\n",
            " [ 9 10]]\n"
          ]
        }
      ]
    },
    {
      "cell_type": "markdown",
      "source": [
        "# Problem - 4: Matrix Operations"
      ],
      "metadata": {
        "id": "7MT4us9_Jny4"
      }
    },
    {
      "cell_type": "markdown",
      "source": [
        " 1. Prove A.A^-1 = I"
      ],
      "metadata": {
        "id": "oJ12jdOBJyBK"
      }
    },
    {
      "cell_type": "code",
      "source": [
        "A = np.array([[3, 4], [7, 8]])\n",
        "A_inv = np.linalg.inv(A)\n",
        "I = np.dot(A, A_inv)\n",
        "print(\"A.A^-1:\\n\", I)"
      ],
      "metadata": {
        "colab": {
          "base_uri": "https://localhost:8080/"
        },
        "id": "LU3kOQOoJxNd",
        "outputId": "d759a978-9159-4d81-ce56-5db16e102f35"
      },
      "execution_count": 41,
      "outputs": [
        {
          "output_type": "stream",
          "name": "stdout",
          "text": [
            "A.A^-1:\n",
            " [[1.00000000e+00 0.00000000e+00]\n",
            " [1.77635684e-15 1.00000000e+00]]\n"
          ]
        }
      ]
    },
    {
      "cell_type": "markdown",
      "source": [
        "2. Prove AB != BA"
      ],
      "metadata": {
        "id": "OHXDjUS5K_Yh"
      }
    },
    {
      "cell_type": "code",
      "source": [
        "B = np.array([[5, 3], [2, 1]])\n",
        "AB = np.dot(A, B)\n",
        "BA = np.dot(B, A)\n",
        "print(\"\\nAB:\\n\", AB)\n",
        "print(\"\\nBA:\\n\", BA)"
      ],
      "metadata": {
        "colab": {
          "base_uri": "https://localhost:8080/"
        },
        "id": "Thmnt8PpK7Fl",
        "outputId": "4d9d7312-be70-4bcc-a131-ca8e2f819627"
      },
      "execution_count": 42,
      "outputs": [
        {
          "output_type": "stream",
          "name": "stdout",
          "text": [
            "\n",
            "AB:\n",
            " [[23 13]\n",
            " [51 29]]\n",
            "\n",
            "BA:\n",
            " [[36 44]\n",
            " [13 16]]\n"
          ]
        }
      ]
    },
    {
      "cell_type": "markdown",
      "source": [
        " 3. Prove (AB)^T = B^T A^T"
      ],
      "metadata": {
        "id": "lRg7ty2bLicl"
      }
    },
    {
      "cell_type": "code",
      "source": [
        "AB_transpose = AB.T\n",
        "B_transpose_A_transpose = np.dot(B.T, A.T)\n",
        "print(\"\\n(AB)^T:\\n\", AB_transpose)\n",
        "print(\"\\nB^T A^T:\\n\", B_transpose_A_transpose)"
      ],
      "metadata": {
        "colab": {
          "base_uri": "https://localhost:8080/"
        },
        "id": "xkvGHoz3LCuq",
        "outputId": "9c386eda-085d-4469-b4f5-38889832b670"
      },
      "execution_count": 43,
      "outputs": [
        {
          "output_type": "stream",
          "name": "stdout",
          "text": [
            "\n",
            "(AB)^T:\n",
            " [[23 51]\n",
            " [13 29]]\n",
            "\n",
            "B^T A^T:\n",
            " [[23 51]\n",
            " [13 29]]\n"
          ]
        }
      ]
    },
    {
      "cell_type": "markdown",
      "source": [
        " Solving the system of linear equations using inverse methods"
      ],
      "metadata": {
        "id": "gxhyVAtdLs9e"
      }
    },
    {
      "cell_type": "code",
      "source": [
        "A = np.array([[2, -3, 1], [1, -1, 2], [3, 1, -1]])\n",
        "B = np.array([-1, -3, 9])\n",
        "X = np.linalg.solve(A, B)\n",
        "print(\"\\nSolution using np.linalg.solve:\\n\", X)\n"
      ],
      "metadata": {
        "colab": {
          "base_uri": "https://localhost:8080/"
        },
        "id": "gUOKFLSGLoiO",
        "outputId": "d8b33af3-46da-4034-f690-22df6ff616db"
      },
      "execution_count": 44,
      "outputs": [
        {
          "output_type": "stream",
          "name": "stdout",
          "text": [
            "\n",
            "Solution using np.linalg.solve:\n",
            " [ 2.  1. -2.]\n"
          ]
        }
      ]
    },
    {
      "cell_type": "markdown",
      "source": [
        "Solving using np.linalg.inv"
      ],
      "metadata": {
        "id": "u7Sqi-r5LzQC"
      }
    },
    {
      "cell_type": "code",
      "source": [
        "X_inv_method = np.dot(np.linalg.inv(A), B)\n",
        "print(\"\\nSolution using np.linalg.inv:\\n\", X_inv_method)"
      ],
      "metadata": {
        "colab": {
          "base_uri": "https://localhost:8080/"
        },
        "id": "cR-70qyKL01K",
        "outputId": "89232e07-5bb2-439e-b9b2-439961e25d6b"
      },
      "execution_count": 45,
      "outputs": [
        {
          "output_type": "stream",
          "name": "stdout",
          "text": [
            "\n",
            "Solution using np.linalg.inv:\n",
            " [ 2.  1. -2.]\n"
          ]
        }
      ]
    },
    {
      "cell_type": "markdown",
      "source": [
        "# 10.2 Experiment: How Fast is NumPy?"
      ],
      "metadata": {
        "id": "3DZ4gyDKL7-4"
      }
    },
    {
      "cell_type": "code",
      "source": [
        "import time"
      ],
      "metadata": {
        "id": "OSiArVp7MP6f"
      },
      "execution_count": 46,
      "outputs": []
    },
    {
      "cell_type": "code",
      "source": [
        "def elementwise_addition_list(n):\n",
        "    list1 = list(range(n))\n",
        "    list2 = list(range(n))\n",
        "    start_time = time.time()\n",
        "    result = [x + y for x, y in zip(list1, list2)]\n",
        "    end_time = time.time()\n",
        "    return end_time - start_time\n",
        "\n",
        "def elementwise_addition_numpy(n):\n",
        "    arr1 = np.arange(n)\n",
        "    arr2 = np.arange(n)\n",
        "    start_time = time.time()\n",
        "    result = arr1 + arr2\n",
        "    end_time = time.time()\n",
        "    return end_time - start_time\n",
        "\n",
        "def elementwise_multiplication_list(n):\n",
        "    list1 = list(range(n))\n",
        "    list2 = list(range(n))\n",
        "    start_time = time.time()\n",
        "    result = [x * y for x, y in zip(list1, list2)]\n",
        "    end_time = time.time()\n",
        "    return end_time - start_time\n",
        "\n",
        "def elementwise_multiplication_numpy(n):\n",
        "    arr1 = np.arange(n)\n",
        "    arr2 = np.arange(n)\n",
        "    start_time = time.time()\n",
        "    result = arr1 * arr2\n",
        "    end_time = time.time()\n",
        "    return end_time - start_time\n",
        "\n",
        "def dot_product_list(n):\n",
        "    list1 = list(range(n))\n",
        "    list2 = list(range(n))\n",
        "    start_time = time.time()\n",
        "    result = sum(x * y for x, y in zip(list1, list2))\n",
        "    end_time = time.time()\n",
        "    return end_time - start_time\n",
        "\n",
        "def dot_product_numpy(n):\n",
        "    arr1 = np.arange(n)\n",
        "    arr2 = np.arange(n)\n",
        "    start_time = time.time()\n",
        "    result = np.dot(arr1, arr2)\n",
        "    end_time = time.time()\n",
        "    return end_time - start_time\n",
        "\n",
        "def matrix_multiplication_list(n):\n",
        "    matrix1 = [[1] * n for _ in range(n)]\n",
        "    matrix2 = [[2] * n for _ in range(n)]\n",
        "    start_time = time.time()\n",
        "    result = [[sum(a * b for a, b in zip(row_a, col_b))\n",
        "               for col_b in zip(*matrix2)] for row_a in matrix1]\n",
        "    end_time = time.time()\n",
        "    return end_time - start_time\n",
        "\n",
        "def matrix_multiplication_numpy(n):\n",
        "    matrix1 = np.ones((n, n))\n",
        "    matrix2 = np.ones((n, n)) * 2\n",
        "    start_time = time.time()\n",
        "    result = np.dot(matrix1, matrix2)\n",
        "    end_time = time.time()\n",
        "    return end_time - start_time\n",
        "\n",
        "n = 1000000\n",
        "list_add_time = elementwise_addition_list(n)\n",
        "numpy_add_time = elementwise_addition_numpy(n)\n",
        "list_mult_time = elementwise_multiplication_list(n)\n",
        "numpy_mult_time = elementwise_multiplication_numpy(n)\n",
        "list_dot_time = dot_product_list(n)\n",
        "numpy_dot_time = dot_product_numpy(n)\n",
        "\n",
        "matrix_size = 1000\n",
        "list_matrix_mult_time = matrix_multiplication_list(matrix_size)\n",
        "numpy_matrix_mult_time = matrix_multiplication_numpy(matrix_size)\n",
        "\n",
        "print(\"\\nPerformance Comparison:\")\n",
        "print(\"Element-wise Addition (List):\", list_add_time, \"seconds\")\n",
        "print(\"Element-wise Addition (NumPy):\", numpy_add_time, \"seconds\")\n",
        "print(\"Element-wise Multiplication (List):\", list_mult_time, \"seconds\")\n",
        "print(\"Element-wise Multiplication (NumPy):\", numpy_mult_time, \"seconds\")\n",
        "print(\"Dot Product (List):\", list_dot_time, \"seconds\")\n",
        "print(\"Dot Product (NumPy):\", numpy_dot_time, \"seconds\")\n",
        "print(\"Matrix Multiplication (List):\", list_matrix_mult_time, \"seconds\")\n",
        "print(\"Matrix Multiplication (NumPy):\", numpy_matrix_mult_time, \"seconds\")"
      ],
      "metadata": {
        "colab": {
          "base_uri": "https://localhost:8080/"
        },
        "id": "1pUvd77DMSOD",
        "outputId": "1af13208-2a84-48ea-b429-f3ea85ccd13e"
      },
      "execution_count": 47,
      "outputs": [
        {
          "output_type": "stream",
          "name": "stdout",
          "text": [
            "\n",
            "Performance Comparison:\n",
            "Element-wise Addition (List): 0.151444673538208 seconds\n",
            "Element-wise Addition (NumPy): 0.011269807815551758 seconds\n",
            "Element-wise Multiplication (List): 0.13126683235168457 seconds\n",
            "Element-wise Multiplication (NumPy): 0.010020732879638672 seconds\n",
            "Dot Product (List): 0.08490729331970215 seconds\n",
            "Dot Product (NumPy): 0.00247955322265625 seconds\n",
            "Matrix Multiplication (List): 83.6282844543457 seconds\n",
            "Matrix Multiplication (NumPy): 0.07018113136291504 seconds\n"
          ]
        }
      ]
    }
  ]
}